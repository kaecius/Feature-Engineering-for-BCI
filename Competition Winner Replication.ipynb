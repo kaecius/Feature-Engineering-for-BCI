{
 "cells": [
  {
   "cell_type": "markdown",
   "metadata": {
    "id": "qOChSUgB9FWS"
   },
   "source": [
    "# Replication of BCI 3 competition winners\n",
    "\n",
    "[BCI Competition III: Dataset II- Ensemble of\n",
    "SVMs for BCI P300 Speller (Alain Rakotomamonjy and Vincent Guigue)](https://ieeexplore.ieee.org/document/4454051)\n",
    "\n",
    "Method description [here](http://www.bbci.de/competition/iii/results/albany/AlainRakotomamonjy_desc.txt)"
   ]
  },
  {
   "cell_type": "code",
   "execution_count": 1,
   "metadata": {
    "ExecuteTime": {
     "end_time": "2020-10-25T21:01:15.249202Z",
     "start_time": "2020-10-25T21:01:14.634183Z"
    },
    "id": "Ucm0Qjb89CSU"
   },
   "outputs": [],
   "source": [
    "%matplotlib inline\n",
    "\n",
    "from scipy.io import loadmat\n",
    "from scipy import stats, signal\n",
    "\n",
    "import matplotlib\n",
    "from matplotlib import pyplot as plt\n",
    "from mpl_toolkits.mplot3d import Axes3D\n",
    "\n",
    "import warnings\n",
    "from sklearn.exceptions import ConvergenceWarning\n",
    "warnings.filterwarnings(\"ignore\", category=ConvergenceWarning)\n",
    "from sklearn.svm import LinearSVC\n",
    "from sklearn.metrics import accuracy_score\n",
    "from sklearn.model_selection import GridSearchCV\n",
    "\n",
    "import numpy as np\n",
    "from tqdm import tqdm"
   ]
  },
  {
   "cell_type": "code",
   "execution_count": 13,
   "metadata": {
    "ExecuteTime": {
     "end_time": "2020-10-25T21:03:46.905771Z",
     "start_time": "2020-10-25T21:03:46.901434Z"
    },
    "id": "rScLvvYBr3zV"
   },
   "outputs": [],
   "source": [
    "char_matrix = [ ['A', 'B', 'C', 'D', 'E', 'F'],\n",
    "                ['G', 'H', 'I', 'J', 'K', 'L'],\n",
    "                ['M', 'N', 'O', 'P', 'Q', 'R'],\n",
    "                ['S', 'T', 'U', 'V', 'W', 'X'],\n",
    "                ['Y', 'Z', '1', '2', '3', '4'],\n",
    "                ['5', '6', '7', '8', '9', '_'] ]\n",
    "\n",
    "def query_row_column(char):\n",
    "    for i in range(len(char_matrix)):\n",
    "        for j in range(len(char_matrix[i])):\n",
    "            if char_matrix[i][j] == char:\n",
    "                return i + 7, j + 1\n",
    "\n",
    "\n",
    "def query_char(row, col):\n",
    "    '''\n",
    "    Col from 1 to 6\n",
    "    Row from 7 to 12\n",
    "    '''\n",
    "    return char_matrix[row - 7][col - 1]"
   ]
  },
  {
   "cell_type": "markdown",
   "metadata": {
    "id": "Bd15vDNV_46v"
   },
   "source": [
    "## Data loading"
   ]
  },
  {
   "cell_type": "code",
   "execution_count": 2,
   "metadata": {
    "ExecuteTime": {
     "end_time": "2020-10-25T21:01:19.784922Z",
     "start_time": "2020-10-25T21:01:17.864817Z"
    },
    "id": "RhVRk7Ka9046"
   },
   "outputs": [],
   "source": [
    "compressed_raw_train_a = np.load('datasets/train_A.npz', allow_pickle = True)\n",
    "raw_a_train_data = compressed_raw_train_a.f.arr_0.reshape([1,1])[0,0]\n",
    "\n",
    "compressed_raw_test_a = np.load('datasets/test_A.npz', allow_pickle = True)\n",
    "raw_a_test_data = compressed_raw_test_a.f.arr_0.reshape([1,1])[0,0]"
   ]
  },
  {
   "cell_type": "code",
   "execution_count": 3,
   "metadata": {
    "ExecuteTime": {
     "end_time": "2020-10-25T21:01:22.229505Z",
     "start_time": "2020-10-25T21:01:22.225170Z"
    },
    "id": "no0Z2Hna_nja"
   },
   "outputs": [],
   "source": [
    "def extract_train_data(raw):\n",
    "    train_data = {}\n",
    "    train_data['signal'] = raw['Signal']\n",
    "    train_data['flashing'] = raw['Flashing']\n",
    "    train_data['target'] = np.array([i for i in raw['TargetChar'][0]])\n",
    "    train_data['stimulus_code'] = raw['StimulusCode']\n",
    "    train_data['stimulus_type'] = raw['StimulusType']\n",
    "    return train_data\n",
    "\n",
    "\n",
    "def extract_test_data(raw):\n",
    "    test_data = {}\n",
    "    test_data['signal'] = raw['Signal']\n",
    "    test_data['flashing'] = raw['Flashing']\n",
    "    test_data['target'] = np.array([\n",
    "        i for i in\n",
    "        'WQXPLZCOMRKO97YFZDEZ1DPI9NNVGRQDJCUVRMEUOOOJD2UFYPOO6J7LDGYEGOA5VHNEHBTXOO1TDOILUEE5BFAEEXAW_K4R3MRU'\n",
    "    ])\n",
    "    test_data['stimulus_code'] = raw['StimulusCode']\n",
    "\n",
    "    return test_data"
   ]
  },
  {
   "cell_type": "code",
   "execution_count": 4,
   "metadata": {
    "ExecuteTime": {
     "end_time": "2020-10-25T21:01:24.564430Z",
     "start_time": "2020-10-25T21:01:24.561944Z"
    },
    "id": "_mBvXebX_0n7"
   },
   "outputs": [],
   "source": [
    "train_data_a = extract_train_data(raw_a_train_data)\n",
    "test_data_a = extract_test_data(raw_a_test_data)"
   ]
  },
  {
   "cell_type": "markdown",
   "metadata": {
    "id": "Z2Yg0H1Y_-JT"
   },
   "source": [
    "## Data Preprocessing"
   ]
  },
  {
   "cell_type": "markdown",
   "metadata": {
    "id": "97BUPU3DAFH8"
   },
   "source": [
    "### 0 - 667 ms after intensification extraction"
   ]
  },
  {
   "cell_type": "markdown",
   "metadata": {
    "id": "Tq4xZuzE5t8A"
   },
   "source": [
    "#### Train Data"
   ]
  },
  {
   "cell_type": "code",
   "execution_count": 5,
   "metadata": {
    "ExecuteTime": {
     "end_time": "2020-10-25T21:01:27.547284Z",
     "start_time": "2020-10-25T21:01:26.800940Z"
    },
    "id": "KX9sTdEx_4JC"
   },
   "outputs": [],
   "source": [
    "freq = 240 # Dataset was digitized at 240 Hz\n",
    "samples_per_intensification = int(freq * 0.667)\n",
    "\n",
    "s = train_data_a['signal'].shape\n",
    "x_train = np.zeros((s[0], 12 * 15, samples_per_intensification, s[2]))\n",
    "y_train = np.zeros((s[0], 12 * 15))\n",
    "stimulus_code_train = np.zeros((s[0], 12 * 15), dtype=np.int)\n",
    "skip = False\n",
    "count = 0\n",
    "\n",
    "for s in range(train_data_a['flashing'].shape[1]): # For each sample\n",
    "  if not skip and train_data_a['flashing'][0, s] == 1:\n",
    "    skip = True\n",
    "    x_train[:, count, :, :] = train_data_a['signal'][:, s:s + samples_per_intensification, :]\n",
    "    y_train[:, count] = train_data_a['stimulus_type'][:, s]\n",
    "    stimulus_code_train[:, count] = train_data_a['stimulus_code'][:, s]\n",
    "    count += 1\n",
    "  elif skip and train_data_a['flashing'][0, s] == 0:\n",
    "    skip = False\n",
    "\n",
    "s = x_train.shape\n",
    "x_train = np.reshape(x_train, (s[0] * s[1], s[2], s[3]))\n",
    "y_train = np.reshape(y_train, (s[0] * s[1]))\n",
    "y_train[y_train == 0] = -1"
   ]
  },
  {
   "cell_type": "markdown",
   "metadata": {
    "id": "n-auyJn95xUG"
   },
   "source": [
    "#### Test Data"
   ]
  },
  {
   "cell_type": "code",
   "execution_count": 6,
   "metadata": {
    "ExecuteTime": {
     "end_time": "2020-10-25T21:01:30.469618Z",
     "start_time": "2020-10-25T21:01:29.609502Z"
    },
    "id": "XCIBcS3f5z9_"
   },
   "outputs": [],
   "source": [
    "s = test_data_a['signal'].shape\n",
    "x_test = np.zeros((s[0], 12 * 15, samples_per_intensification, s[2]))\n",
    "y_test = np.zeros((s[0], 12 * 15))\n",
    "stimulus_code_test = np.zeros((s[0], 12 * 15), dtype=np.int)\n",
    "skip = False\n",
    "count = 0\n",
    "\n",
    "for s in range(test_data_a['flashing'].shape[1]): # For each sample\n",
    "  if not skip and test_data_a['flashing'][0, s] == 1:\n",
    "    skip = True\n",
    "    x_test[:, count, :, :] = test_data_a['signal'][:, s:s + samples_per_intensification, :]\n",
    "    # y_test[:, count] = test_data_a['stimulus_type'][:, s]\n",
    "    stimulus_code_test[:, count] = test_data_a['stimulus_code'][:, s]\n",
    "    count += 1\n",
    "  elif skip and test_data_a['flashing'][0, s] == 0:\n",
    "    skip = False\n",
    "\n",
    "s = x_test.shape\n",
    "x_test = np.reshape(x_test, (s[0] * s[1], s[2], s[3]))\n",
    "# y_test = np.reshape(y_test, (s[0] * s[1]))\n",
    "# y_test[y_test == 0] = -1"
   ]
  },
  {
   "cell_type": "markdown",
   "metadata": {
    "id": "t5BuV7_BANe7"
   },
   "source": [
    "### 0.1 - 10 Hz 8-order bandpass Chebyshev filter + decimation at 10 Hz\n",
    "\n"
   ]
  },
  {
   "cell_type": "markdown",
   "metadata": {
    "id": "rWNo55pr7rQE"
   },
   "source": [
    "#### Train Data"
   ]
  },
  {
   "cell_type": "code",
   "execution_count": 7,
   "metadata": {
    "ExecuteTime": {
     "end_time": "2020-10-25T21:01:40.130933Z",
     "start_time": "2020-10-25T21:01:33.001114Z"
    },
    "colab": {
     "base_uri": "https://localhost:8080/",
     "height": 34
    },
    "id": "5qcnJcjVAeUy",
    "outputId": "db4bc123-c4ef-4c8a-b7bf-b3bccbc9b877"
   },
   "outputs": [
    {
     "name": "stderr",
     "output_type": "stream",
     "text": [
      "100%|██████████| 64/64 [00:07<00:00,  9.03it/s]\n"
     ]
    }
   ],
   "source": [
    "n_x_train = np.zeros((x_train.shape[0], 14 * x_train.shape[2]))\n",
    "\n",
    "for c in tqdm(range(x_train.shape[2])):\n",
    "  n_x_train[:, c * 14 : (c + 1) * 14] = signal.decimate(x_train[:, : , c], 12)\n",
    "\n",
    "x_train = n_x_train\n",
    "del n_x_train"
   ]
  },
  {
   "cell_type": "markdown",
   "metadata": {
    "id": "y4_YBOYL7teW"
   },
   "source": [
    "#### Test Data"
   ]
  },
  {
   "cell_type": "code",
   "execution_count": 8,
   "metadata": {
    "ExecuteTime": {
     "end_time": "2020-10-25T21:01:49.632679Z",
     "start_time": "2020-10-25T21:01:41.296704Z"
    },
    "colab": {
     "base_uri": "https://localhost:8080/",
     "height": 34
    },
    "id": "gYg5BCkJ7vDU",
    "outputId": "f4e52507-26ca-4209-b5fc-6de91a4e85f8"
   },
   "outputs": [
    {
     "name": "stderr",
     "output_type": "stream",
     "text": [
      "100%|██████████| 64/64 [00:08<00:00,  7.72it/s]\n"
     ]
    }
   ],
   "source": [
    "n_x_test = np.zeros((x_test.shape[0], 14 * x_test.shape[2]))\n",
    "\n",
    "for c in tqdm(range(x_test.shape[2])):\n",
    "  n_x_test[:, c * 14 : (c + 1) * 14] = signal.decimate(x_test[:, : , c], 12)\n",
    "\n",
    "x_test = n_x_test\n",
    "del n_x_test"
   ]
  },
  {
   "cell_type": "markdown",
   "metadata": {
    "id": "DzjhtEKz80b0"
   },
   "source": [
    "### Train Partitioning"
   ]
  },
  {
   "cell_type": "code",
   "execution_count": 9,
   "metadata": {
    "ExecuteTime": {
     "end_time": "2020-10-25T21:01:50.866817Z",
     "start_time": "2020-10-25T21:01:50.816091Z"
    },
    "id": "CK5nQTS284i7"
   },
   "outputs": [],
   "source": [
    "partitioned_train = np.zeros((x_train.shape[0] // (5 * 12 * 15), 900, x_train.shape[1]))\n",
    "partitioned_train_target = np.zeros((y_train.shape[0] // (5 * 12 * 15), 900))\n",
    "for i in range(partitioned_train.shape[0]):\n",
    "  partitioned_train[i, :, :] = x_train[i * partitioned_train.shape[1] : (i + 1) * partitioned_train.shape[1], :]\n",
    "  partitioned_train_target[i, :] = y_train[i * partitioned_train_target.shape[1] : (i + 1) * partitioned_train_target.shape[1]]"
   ]
  },
  {
   "cell_type": "markdown",
   "metadata": {
    "id": "nGT3RqLh7_Zm"
   },
   "source": [
    "## Classification"
   ]
  },
  {
   "cell_type": "markdown",
   "metadata": {
    "id": "erz_HFxUCFb3"
   },
   "source": [
    "### Ensemble of classifiers"
   ]
  },
  {
   "cell_type": "code",
   "execution_count": 10,
   "metadata": {
    "ExecuteTime": {
     "end_time": "2020-10-25T21:03:13.749625Z",
     "start_time": "2020-10-25T21:01:53.088747Z"
    },
    "colab": {
     "base_uri": "https://localhost:8080/",
     "height": 612
    },
    "id": "UwmpABgF8CLB",
    "outputId": "77e4e463-fa6a-4619-f93b-b9fcf53353e1"
   },
   "outputs": [
    {
     "name": "stderr",
     "output_type": "stream",
     "text": [
      "  6%|▌         | 1/17 [00:04<01:17,  4.83s/it]"
     ]
    },
    {
     "name": "stdout",
     "output_type": "stream",
     "text": [
      "\n",
      "C:0.01\tScore: 0.7971428571428572\n"
     ]
    },
    {
     "name": "stderr",
     "output_type": "stream",
     "text": [
      " 12%|█▏        | 2/17 [00:09<01:11,  4.74s/it]"
     ]
    },
    {
     "name": "stdout",
     "output_type": "stream",
     "text": [
      "\n",
      "C:0.01\tScore: 0.7747619047619048\n"
     ]
    },
    {
     "name": "stderr",
     "output_type": "stream",
     "text": [
      " 18%|█▊        | 3/17 [00:14<01:09,  4.98s/it]"
     ]
    },
    {
     "name": "stdout",
     "output_type": "stream",
     "text": [
      "\n",
      "C:0.01\tScore: 0.8061904761904762\n"
     ]
    },
    {
     "name": "stderr",
     "output_type": "stream",
     "text": [
      " 24%|██▎       | 4/17 [00:18<01:00,  4.62s/it]"
     ]
    },
    {
     "name": "stdout",
     "output_type": "stream",
     "text": [
      "\n",
      "C:0.01\tScore: 0.7893650793650794\n"
     ]
    },
    {
     "name": "stderr",
     "output_type": "stream",
     "text": [
      " 29%|██▉       | 5/17 [00:22<00:53,  4.42s/it]"
     ]
    },
    {
     "name": "stdout",
     "output_type": "stream",
     "text": [
      "\n",
      "C:0.01\tScore: 0.7738095238095238\n"
     ]
    },
    {
     "name": "stderr",
     "output_type": "stream",
     "text": [
      " 35%|███▌      | 6/17 [00:27<00:51,  4.69s/it]"
     ]
    },
    {
     "name": "stdout",
     "output_type": "stream",
     "text": [
      "\n",
      "C:0.01\tScore: 0.810952380952381\n"
     ]
    },
    {
     "name": "stderr",
     "output_type": "stream",
     "text": [
      " 41%|████      | 7/17 [00:32<00:47,  4.79s/it]"
     ]
    },
    {
     "name": "stdout",
     "output_type": "stream",
     "text": [
      "\n",
      "C:0.01\tScore: 0.7955555555555556\n"
     ]
    },
    {
     "name": "stderr",
     "output_type": "stream",
     "text": [
      " 47%|████▋     | 8/17 [00:36<00:40,  4.48s/it]"
     ]
    },
    {
     "name": "stdout",
     "output_type": "stream",
     "text": [
      "\n",
      "C:0.01\tScore: 0.7587301587301587\n"
     ]
    },
    {
     "name": "stderr",
     "output_type": "stream",
     "text": [
      " 53%|█████▎    | 9/17 [00:41<00:37,  4.67s/it]"
     ]
    },
    {
     "name": "stdout",
     "output_type": "stream",
     "text": [
      "\n",
      "C:0.01\tScore: 0.7898611111111111\n"
     ]
    },
    {
     "name": "stderr",
     "output_type": "stream",
     "text": [
      " 59%|█████▉    | 10/17 [00:46<00:32,  4.61s/it]"
     ]
    },
    {
     "name": "stdout",
     "output_type": "stream",
     "text": [
      "\n",
      "C:0.01\tScore: 0.7643055555555556\n"
     ]
    },
    {
     "name": "stderr",
     "output_type": "stream",
     "text": [
      " 65%|██████▍   | 11/17 [00:50<00:27,  4.60s/it]"
     ]
    },
    {
     "name": "stdout",
     "output_type": "stream",
     "text": [
      "\n",
      "C:0.01\tScore: 0.7719444444444444\n"
     ]
    },
    {
     "name": "stderr",
     "output_type": "stream",
     "text": [
      " 71%|███████   | 12/17 [00:55<00:23,  4.74s/it]"
     ]
    },
    {
     "name": "stdout",
     "output_type": "stream",
     "text": [
      "\n",
      "C:0.01\tScore: 0.7920833333333334\n"
     ]
    },
    {
     "name": "stderr",
     "output_type": "stream",
     "text": [
      " 76%|███████▋  | 13/17 [01:02<00:20,  5.23s/it]"
     ]
    },
    {
     "name": "stdout",
     "output_type": "stream",
     "text": [
      "\n",
      "C:0.01\tScore: 0.8268055555555556\n"
     ]
    },
    {
     "name": "stderr",
     "output_type": "stream",
     "text": [
      " 82%|████████▏ | 14/17 [01:06<00:14,  4.85s/it]"
     ]
    },
    {
     "name": "stdout",
     "output_type": "stream",
     "text": [
      "\n",
      "C:0.01\tScore: 0.7679166666666667\n"
     ]
    },
    {
     "name": "stderr",
     "output_type": "stream",
     "text": [
      " 88%|████████▊ | 15/17 [01:11<00:09,  4.85s/it]"
     ]
    },
    {
     "name": "stdout",
     "output_type": "stream",
     "text": [
      "\n",
      "C:0.01\tScore: 0.7670833333333333\n"
     ]
    },
    {
     "name": "stderr",
     "output_type": "stream",
     "text": [
      " 94%|█████████▍| 16/17 [01:15<00:04,  4.62s/it]"
     ]
    },
    {
     "name": "stdout",
     "output_type": "stream",
     "text": [
      "\n",
      "C:0.01\tScore: 0.7688888888888888\n"
     ]
    },
    {
     "name": "stderr",
     "output_type": "stream",
     "text": [
      "100%|██████████| 17/17 [01:20<00:00,  4.74s/it]"
     ]
    },
    {
     "name": "stdout",
     "output_type": "stream",
     "text": [
      "\n",
      "C:0.01\tScore: 0.7872222222222223\n"
     ]
    },
    {
     "name": "stderr",
     "output_type": "stream",
     "text": [
      "\n"
     ]
    }
   ],
   "source": [
    "svmArray = []\n",
    "\n",
    "for i in tqdm(range(partitioned_train.shape[0]),position=0, leave=True):\n",
    "  \n",
    "  if i < 8:\n",
    "    val_set_x = np.vstack((np.reshape(partitioned_train[0:i],(-1, partitioned_train[0:i].shape[2])), np.reshape(partitioned_train[i+1:8], (-1, partitioned_train[i+1:8].shape[2]))))\n",
    "    val_set_y = np.vstack((np.reshape(partitioned_train_target[0:i],(-1, partitioned_train_target[0:i].shape[1])), np.reshape(partitioned_train_target[i+1:8], (-1, partitioned_train_target[i+1:8].shape[1])))).flatten()\n",
    "  else:\n",
    "    val_set_x = np.vstack((np.reshape(partitioned_train[8:i],(-1, partitioned_train[8:i].shape[2])), np.reshape(partitioned_train[i+1:], (-1, partitioned_train[i+1:].shape[2]))))\n",
    "    val_set_y = np.vstack((np.reshape(partitioned_train_target[8:i],(-1, partitioned_train_target[8:i].shape[1])), np.reshape(partitioned_train_target[i+1:], (-1, partitioned_train_target[i+1:].shape[1])))).flatten()\n",
    "  \n",
    "  maxScore = -np.Inf\n",
    "  mean, stdev = stats.norm.fit(partitioned_train[i])\n",
    "  part = (partitioned_train[i] - mean) / stdev\n",
    "  val_set_x = (val_set_x - mean) / stdev\n",
    "\n",
    "  for c in [0.01, 0.05, 0.1, 0.5, 1]:\n",
    "    currentSVM = LinearSVC(C=c)\n",
    "    currentSVM.fit(part, partitioned_train_target[i])\n",
    "    \n",
    "    cScore = currentSVM.score(val_set_x, val_set_y)\n",
    "    if cScore > maxScore:\n",
    "      maxScore = cScore\n",
    "      bestEstimator = currentSVM\n",
    "  \n",
    "  tqdm.write(f'\\nC:{bestEstimator.C}\\tScore: {str(maxScore)}')\n",
    "  svmArray.append(bestEstimator)"
   ]
  },
  {
   "cell_type": "markdown",
   "metadata": {
    "id": "1YLUd0r2HU9g"
   },
   "source": [
    "### Global Classification Scheme"
   ]
  },
  {
   "cell_type": "code",
   "execution_count": 11,
   "metadata": {
    "ExecuteTime": {
     "end_time": "2020-10-25T21:03:25.252824Z",
     "start_time": "2020-10-25T21:03:25.133927Z"
    },
    "id": "t2BKLO-h9emN"
   },
   "outputs": [],
   "source": [
    "mean, stdev = stats.norm.fit(x_test)\n",
    "x_test = (x_test - mean) / stdev"
   ]
  },
  {
   "cell_type": "code",
   "execution_count": 12,
   "metadata": {
    "ExecuteTime": {
     "end_time": "2020-10-25T21:03:45.569864Z",
     "start_time": "2020-10-25T21:03:27.165453Z"
    },
    "colab": {
     "base_uri": "https://localhost:8080/",
     "height": 34
    },
    "id": "wG2F6t12HYZu",
    "outputId": "e534a180-2031-46df-8159-c2de29980b81"
   },
   "outputs": [
    {
     "name": "stderr",
     "output_type": "stream",
     "text": [
      "100%|██████████| 100/100 [00:18<00:00,  5.44it/s]\n"
     ]
    }
   ],
   "source": [
    "scores = []\n",
    "char_epoch = 0\n",
    "\n",
    "for c in tqdm(range(stimulus_code_test.shape[0]), position=0, leave=True):\n",
    "  score = {}\n",
    "  for i in range(12):\n",
    "    currentScore = 0\n",
    "    \n",
    "    for b in range(15):\n",
    "      index = c * 180 + i + 12 * b\n",
    "      for k in range(len(svmArray)):\n",
    "        currentScore += svmArray[k].predict(x_test[index:index+1])\n",
    "    \n",
    "    if not stimulus_code_test[c, i] in score:\n",
    "      score[stimulus_code_test[c, i]] = currentScore\n",
    "    else:\n",
    "      score[stimulus_code_test[c, i]] += currentScore\n",
    "\n",
    "  for k in score.keys():\n",
    "    score[k] *= (1/15)*(1/17)\n",
    "\n",
    "  scores.append(score)"
   ]
  },
  {
   "cell_type": "code",
   "execution_count": null,
   "metadata": {},
   "outputs": [],
   "source": [
    "preds = []\n",
    "\n",
    "for d in scores:\n",
    "  maxRow = -np.Inf\n",
    "  maxCol = 0\n",
    "  rowIndex = colIndex = 0\n",
    "  \n",
    "  for k in d.keys():\n",
    "    if k < 7 and d[k] > maxCol:\n",
    "      maxCol = d[k]\n",
    "      colIndex = k\n",
    "    elif k >= 7 and d[k] > maxRow:\n",
    "      maxRow = d[k]\n",
    "      rowIndex = k\n",
    "  \n",
    "  preds.append(query_char(rowIndex, colIndex))\n",
    "\n",
    "acc = accuracy_score(test_data_a['target'], preds)\n",
    "print(acc)"
   ]
  },
  {
   "cell_type": "markdown",
   "metadata": {
    "id": "mszgMB10Ckj8"
   },
   "source": [
    "### Single SVM -> Normalized Data"
   ]
  },
  {
   "cell_type": "code",
   "execution_count": 17,
   "metadata": {
    "ExecuteTime": {
     "end_time": "2020-10-25T21:05:48.204770Z",
     "start_time": "2020-10-25T21:05:20.915076Z"
    },
    "id": "DqSN0VBWCpR5"
   },
   "outputs": [],
   "source": [
    "mean, stdev = stats.norm.fit(x_train)\n",
    "x_train_new = (x_train - mean) / stdev\n",
    "\n",
    "mean, stdev = stats.norm.fit(x_test)\n",
    "x_test_new = (x_test - mean) / stdev\n",
    "\n",
    "c = LinearSVC(C=0.01)\n",
    "c.fit(x_train_new, y_train)\n",
    "p = c.predict(x_test_new)"
   ]
  },
  {
   "cell_type": "code",
   "execution_count": 18,
   "metadata": {
    "ExecuteTime": {
     "end_time": "2020-10-25T21:06:02.605308Z",
     "start_time": "2020-10-25T21:06:02.586134Z"
    },
    "colab": {
     "base_uri": "https://localhost:8080/",
     "height": 34
    },
    "id": "67gEwy-pDG37",
    "outputId": "ed6e520c-e64e-476c-b957-343df4b8d5f5"
   },
   "outputs": [
    {
     "name": "stdout",
     "output_type": "stream",
     "text": [
      "0.3\n"
     ]
    }
   ],
   "source": [
    "p_by_window = []\n",
    "\n",
    "for c in range(100):\n",
    "  row_cols = {}\n",
    "  \n",
    "  for w in range(180):\n",
    "    if not stimulus_code_test[c,w] in row_cols:\n",
    "      row_cols[stimulus_code_test[c,w]] = p[c * 180 + w]\n",
    "    else:\n",
    "      row_cols[stimulus_code_test[c,w]] += p[c * 180 + w]\n",
    "  \n",
    "  maxRow = -np.Inf\n",
    "  maxCol = 0\n",
    "  rowIndex = colIndex = 0\n",
    "  \n",
    "  for k in row_cols.keys():\n",
    "    if k < 7 and row_cols[k] > maxCol:\n",
    "      maxCol = row_cols[k]\n",
    "      colIndex = k\n",
    "    elif k >= 7 and row_cols[k] > maxRow:\n",
    "      maxRow = row_cols[k]\n",
    "      rowIndex = k\n",
    "  \n",
    "  p_by_window.append(query_char(rowIndex, colIndex))\n",
    "\n",
    "acc_new = accuracy_score(test_data_a['target'], p_by_window)\n",
    "print(acc_new)"
   ]
  },
  {
   "cell_type": "markdown",
   "metadata": {
    "id": "CsrYdSZCDsCD"
   },
   "source": [
    "### Bagging\n",
    "__WARNING__: The execution of the cells below may take too much time, be cautious!"
   ]
  },
  {
   "cell_type": "code",
   "execution_count": 19,
   "metadata": {
    "ExecuteTime": {
     "end_time": "2020-10-25T21:10:59.815772Z",
     "start_time": "2020-10-25T21:06:09.331731Z"
    },
    "id": "oxe0VR28Djib"
   },
   "outputs": [],
   "source": [
    "from sklearn.ensemble import BaggingClassifier\n",
    "\n",
    "bag = BaggingClassifier(LinearSVC(C=0.01), n_estimators=17)\n",
    "bag.fit(x_train_new, y_train)\n",
    "pr = bag.predict(x_test)"
   ]
  },
  {
   "cell_type": "code",
   "execution_count": 20,
   "metadata": {
    "ExecuteTime": {
     "end_time": "2020-10-25T21:13:57.695692Z",
     "start_time": "2020-10-25T21:13:54.487265Z"
    },
    "id": "EOXewmQMFuCT"
   },
   "outputs": [],
   "source": [
    "pr = bag.predict(x_test_new)"
   ]
  },
  {
   "cell_type": "code",
   "execution_count": 21,
   "metadata": {
    "ExecuteTime": {
     "end_time": "2020-10-25T21:13:59.809781Z",
     "start_time": "2020-10-25T21:13:59.774515Z"
    },
    "colab": {
     "base_uri": "https://localhost:8080/",
     "height": 34
    },
    "id": "fyAeS6pfEK6P",
    "outputId": "b2a540b8-07fe-4e46-8102-30c99be74e39"
   },
   "outputs": [
    {
     "name": "stdout",
     "output_type": "stream",
     "text": [
      "0.33\n"
     ]
    }
   ],
   "source": [
    "pr_by_window = []\n",
    "\n",
    "for c in range(100):\n",
    "  row_cols = {}\n",
    "  \n",
    "  for w in range(180):\n",
    "    if not stimulus_code_test[c,w] in row_cols:\n",
    "      row_cols[stimulus_code_test[c,w]] = pr[c * 180 + w]\n",
    "    else:\n",
    "      row_cols[stimulus_code_test[c,w]] += pr[c * 180 + w]\n",
    "  \n",
    "  maxRow = -np.Inf\n",
    "  maxCol = 0\n",
    "  rowIndex = colIndex = 0\n",
    "  \n",
    "  for k in row_cols.keys():\n",
    "    if k < 7 and row_cols[k] > maxCol:\n",
    "      maxCol = row_cols[k]\n",
    "      colIndex = k\n",
    "    elif k >= 7 and row_cols[k] > maxRow:\n",
    "      maxRow = row_cols[k]\n",
    "      rowIndex = k\n",
    "  \n",
    "  pr_by_window.append(query_char(rowIndex, colIndex))\n",
    "\n",
    "acc_new_final_lol = accuracy_score(test_data_a['target'], pr_by_window)\n",
    "print(acc_new_final_lol)"
   ]
  }
 ],
 "metadata": {
  "colab": {
   "collapsed_sections": [],
   "name": "BCI_paper.ipynb",
   "provenance": []
  },
  "kernelspec": {
   "display_name": "Python 3",
   "language": "python",
   "name": "python3"
  },
  "language_info": {
   "codemirror_mode": {
    "name": "ipython",
    "version": 3
   },
   "file_extension": ".py",
   "mimetype": "text/x-python",
   "name": "python",
   "nbconvert_exporter": "python",
   "pygments_lexer": "ipython3",
   "version": "3.6.12"
  },
  "toc": {
   "base_numbering": 1,
   "nav_menu": {},
   "number_sections": true,
   "sideBar": true,
   "skip_h1_title": false,
   "title_cell": "Table of Contents",
   "title_sidebar": "Contents",
   "toc_cell": false,
   "toc_position": {},
   "toc_section_display": true,
   "toc_window_display": false
  },
  "varInspector": {
   "cols": {
    "lenName": 16,
    "lenType": 16,
    "lenVar": 40
   },
   "kernels_config": {
    "python": {
     "delete_cmd_postfix": "",
     "delete_cmd_prefix": "del ",
     "library": "var_list.py",
     "varRefreshCmd": "print(var_dic_list())"
    },
    "r": {
     "delete_cmd_postfix": ") ",
     "delete_cmd_prefix": "rm(",
     "library": "var_list.r",
     "varRefreshCmd": "cat(var_dic_list()) "
    }
   },
   "types_to_exclude": [
    "module",
    "function",
    "builtin_function_or_method",
    "instance",
    "_Feature"
   ],
   "window_display": false
  }
 },
 "nbformat": 4,
 "nbformat_minor": 1
}
